{
 "cells": [
  {
   "cell_type": "markdown",
   "id": "78b6f31f-d723-4984-9c09-5066324d3a1d",
   "metadata": {},
   "source": [
    "Q1.Explain with an example each when to use a for loop and a while loop .\n",
    "\n",
    "\n",
    "Ans .In Python, the for loop is used to run a block of code for a certain number of times. It is used to iterate over any sequences such as list, tuple, string, etc."
   ]
  },
  {
   "cell_type": "code",
   "execution_count": 1,
   "id": "f2f503ff-b609-4cbb-bdb5-c5b0a580e9d3",
   "metadata": {},
   "outputs": [
    {
     "name": "stdout",
     "output_type": "stream",
     "text": [
      "0\n",
      "1\n",
      "2\n",
      "3\n",
      "4\n"
     ]
    }
   ],
   "source": [
    "# example \n",
    "for i in range(0,5):\n",
    "    print(i)"
   ]
  },
  {
   "cell_type": "markdown",
   "id": "4deb3ea3-b7fb-4404-a96a-ac571f1e474f",
   "metadata": {},
   "source": [
    "In python , while loop is used to run a block code until the certain condition is met.\n"
   ]
  },
  {
   "cell_type": "code",
   "execution_count": 2,
   "id": "a5ff7fea-1a06-4d11-8d58-84f597ba2d17",
   "metadata": {},
   "outputs": [
    {
     "name": "stdout",
     "output_type": "stream",
     "text": [
      "1\n",
      "2\n",
      "3\n",
      "4\n",
      "5\n"
     ]
    }
   ],
   "source": [
    "# example \n",
    "i=1\n",
    "n=5\n",
    "while i<=5:\n",
    "    print(i)\n",
    "    i=i+1"
   ]
  },
  {
   "cell_type": "code",
   "execution_count": null,
   "id": "c4b750cb-192c-4a8f-b9f3-d2731d2c6359",
   "metadata": {},
   "outputs": [],
   "source": [
    "#Q2. Write a python program to print the sum and product of the first 10 natural numbers using for  and while loop. "
   ]
  },
  {
   "cell_type": "code",
   "execution_count": 2,
   "id": "ee5d00da-ed35-43d6-a614-7a0e9feeb3d2",
   "metadata": {},
   "outputs": [
    {
     "name": "stdout",
     "output_type": "stream",
     "text": [
      "1 2 3 4 5 6 7 8 9 10 \n",
      "The sum of the first 10 natural numbers are 55\n",
      "The product of first 10 natural numbers are  3628800\n"
     ]
    }
   ],
   "source": [
    "sum=0\n",
    "product=1\n",
    "for i in range (1,11):\n",
    "    print (i , end= ' ') \n",
    "    sum=sum+i\n",
    "    product=product*i\n",
    "print()\n",
    "print(\"The sum of the first 10 natural numbers are\", sum)\n",
    "print(\"The product of first 10 natural numbers are \", product)\n",
    "\n"
   ]
  },
  {
   "cell_type": "code",
   "execution_count": null,
   "id": "fbb95f93-e1f5-4919-880c-7ad998768ae2",
   "metadata": {},
   "outputs": [],
   "source": [
    "sum=0\n",
    "product=1\n",
    "i=1\n",
    "while i<=10:\n",
    "    sum=sum+i\n",
    "    product=product*i\n",
    "    i=i+1\n",
    "    print(\"sum of first 10 natural numbers are\",sum)\n",
    "    print(\"product of first 10 natural numbers are\",product)"
   ]
  },
  {
   "cell_type": "code",
   "execution_count": null,
   "id": "88389c81-e386-4dc8-8993-1943fa9dd638",
   "metadata": {},
   "outputs": [],
   "source": [
    "# Q3. Create a python program to compute the electricity bill for a household. \n",
    "#The per-unit charges in rupees are as follows: For the first 100 units, the user will be charged Rs. 4.5 per  unit, for the next 100 units, the user will be charged Rs. 6 per unit, and for the next 100 units, the user will  be charged Rs. 10 per unit, After 300 units and above the user will be charged Rs. 20 per unit.\n"
   ]
  },
  {
   "cell_type": "code",
   "execution_count": 7,
   "id": "6831ed11-5cb7-4d85-a892-2c32d8cb137d",
   "metadata": {},
   "outputs": [
    {
     "name": "stdin",
     "output_type": "stream",
     "text": [
      "Enter the number of units consumed in last month 310\n"
     ]
    },
    {
     "name": "stdout",
     "output_type": "stream",
     "text": [
      "The total electricity bill is  2250.0\n"
     ]
    }
   ],
   "source": [
    "unit=int(input(\"Enter the number of units consumed in last month\"))\n",
    "price=1\n",
    "if unit <=100:\n",
    "    price =(4.5* unit)\n",
    "elif unit>100 and unit<=200:\n",
    "    price = (4.5*100+6*100)\n",
    "elif unit>200 and unit<=300:\n",
    "    price=(4.5*100+6*100+10*100)\n",
    "else:\n",
    "    price=(4.5*100+6*100+10*100+20*(unit-300))\n",
    "print(\"The total electricity bill is \",price)"
   ]
  },
  {
   "cell_type": "code",
   "execution_count": null,
   "id": "52530798-34df-4540-a7d1-8f2f7d663547",
   "metadata": {},
   "outputs": [],
   "source": [
    "# Q4. Create a list of numbers from 1 to 100. Use for loop and while loop to calculate the cube of each  number and if the cube of that number is divisible by 4 or 5 then append that number in a list and print  that list."
   ]
  },
  {
   "cell_type": "code",
   "execution_count": 2,
   "id": "abec76d4-03ac-403a-bbef-d65678cf6e2d",
   "metadata": {},
   "outputs": [
    {
     "name": "stdout",
     "output_type": "stream",
     "text": [
      "[2, 4, 5, 6, 8, 10, 12, 14, 15, 16, 18, 20, 22, 24, 25, 26, 28, 30, 32, 34, 35, 36, 38, 40, 42, 44, 45, 46, 48, 50, 52, 54, 55, 56, 58, 60, 62, 64, 65, 66, 68, 70, 72, 74, 75, 76, 78, 80, 82, 84, 85, 86, 88, 90, 92, 94, 95, 96, 98, 100]\n"
     ]
    }
   ],
   "source": [
    "l=[]\n",
    "a=list(range(1,101))\n",
    "for i in a:\n",
    "    cube=i**3\n",
    "    if cube%4==0 or cube%5==0:\n",
    "        l.append(i)\n",
    "print(l)        "
   ]
  },
  {
   "cell_type": "code",
   "execution_count": null,
   "id": "f39a1f0d-3beb-4e2f-966c-1b43562e6ada",
   "metadata": {},
   "outputs": [],
   "source": [
    "l1=[]\n",
    "i=1\n",
    "cube=0\n",
    "while i<101:\n",
    "    cube=i**3\n",
    "    if cube%4==0 or cube%5==0:\n",
    "        l1.append(i)\n",
    "        i=i+1\n",
    "print(l1)        "
   ]
  },
  {
   "cell_type": "code",
   "execution_count": null,
   "id": "df996f38-d9a1-43f5-b571-2acaee6f6f41",
   "metadata": {},
   "outputs": [],
   "source": [
    "# Q5. Write a program to filter count vowels in the below-given string. \n",
    "# string = \"I want to become a data scientist\" \n"
   ]
  },
  {
   "cell_type": "code",
   "execution_count": 12,
   "id": "8044a9a1-9d9e-4df4-9e9d-625522fba70c",
   "metadata": {},
   "outputs": [
    {
     "name": "stdout",
     "output_type": "stream",
     "text": [
      "no of vowels 12\n"
     ]
    }
   ],
   "source": [
    "str=\"I want to become a data scientist\"\n",
    "count=0\n",
    "for x in str:\n",
    "       if x.lower() in ['a','e','i','o','u','A','E','I','O','U']:\n",
    "        count=count+1\n",
    "print(\"no of vowels\",count)    \n",
    "    "
   ]
  },
  {
   "cell_type": "code",
   "execution_count": null,
   "id": "dc1f724a-d20b-4e5a-95ee-2390d5473765",
   "metadata": {},
   "outputs": [],
   "source": []
  }
 ],
 "metadata": {
  "kernelspec": {
   "display_name": "Python 3 (ipykernel)",
   "language": "python",
   "name": "python3"
  },
  "language_info": {
   "codemirror_mode": {
    "name": "ipython",
    "version": 3
   },
   "file_extension": ".py",
   "mimetype": "text/x-python",
   "name": "python",
   "nbconvert_exporter": "python",
   "pygments_lexer": "ipython3",
   "version": "3.10.8"
  }
 },
 "nbformat": 4,
 "nbformat_minor": 5
}
